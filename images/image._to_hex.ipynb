{
 "cells": [
  {
   "cell_type": "code",
   "execution_count": 1,
   "metadata": {},
   "outputs": [],
   "source": [
    "import matplotlib.pyplot as plt\n",
    "import numpy as np\n",
    "import cv2"
   ]
  },
  {
   "cell_type": "code",
   "execution_count": 2,
   "metadata": {},
   "outputs": [],
   "source": [
    "def image_to_hex(image, name = \"image\", n=0, x=0, y=0):\n",
    "\n",
    "    text = \"\"\n",
    "    for y_ in range(image.shape[0]):\n",
    "        for x_ in range(image.shape[1]):\n",
    "            if list(image[y_][x_]) != [n]*3:\n",
    "                text += \"\\t{\"+f\"{y_}, {x_}, 0x{image[y_][x_][2]:02x}{image[y_][x_][1]:02x}{image[y_][x_][0]:02x}\"+\"},\\n\"\n",
    "\n",
    "    text = \"\\t{\" + f\"{y}, {x}, {len(text.split(\"\\n\"))}\" + \"},\\n\" + text\n",
    "    text = f\"static const int {name}[][3] =\\n\" + \"{\\n\" + text + \"};\"\n",
    "\n",
    "    return text\n"
   ]
  },
  {
   "cell_type": "code",
   "execution_count": 3,
   "metadata": {},
   "outputs": [],
   "source": [
    "gengar = []\n",
    "nidorino = []\n",
    "for n in range(3):\n",
    "    gengar.append((plt.imread(f\"assets/gengar{n}.png\")[::, ::, :3]*255).astype(np.uint8))\n",
    "    nidorino.append((plt.imread(f\"assets/nidorino{n}.png\")[::, ::, :3]*255).astype(np.uint8))\n",
    "\n",
    "logo = (plt.imread(\"assets/logo.png\")[::, ::, :3]*255).astype(np.uint8)\n",
    "\n",
    "base = (plt.imread(\"assets/base.png\")[::, ::, :3]*255).astype(np.uint8)"
   ]
  },
  {
   "cell_type": "code",
   "execution_count": 4,
   "metadata": {},
   "outputs": [],
   "source": [
    "gengar_0   =  (gengar[0] != 255) * gengar[0]\n",
    "gengar_0_1 = ((gengar[0] != gengar[1]) * gengar[1])\n",
    "gengar_1_2 = ((gengar[1] != gengar[2]) * gengar[2])\n",
    "gengar_2_0 = ((gengar[2] != gengar[0]) * gengar[0])\n",
    "\n",
    "nidorino_0   =  (nidorino[0] != 255) * nidorino[0]\n",
    "nidorino_0_1 = ((nidorino[0] != nidorino[1]) * nidorino[1])\n",
    "nidorino_1_2 = ((nidorino[1] != nidorino[2]) * nidorino[2])\n",
    "nidorino_2_0 = ((nidorino[2] != nidorino[0]) * nidorino[0])\n"
   ]
  },
  {
   "cell_type": "code",
   "execution_count": 5,
   "metadata": {},
   "outputs": [],
   "source": [
    "text = \"\"\n",
    "text += image_to_hex(gengar_0, \"gengar_0\", x=4, y=24)\n",
    "text += \"\\n\\n\"\n",
    "text += image_to_hex(gengar_0_1, \"gengar_0_1\", x=4, y=24)\n",
    "text += \"\\n\\n\"\n",
    "text += image_to_hex(gengar_1_2, \"gengar_1_2\", x=4, y=24)\n",
    "text += \"\\n\\n\"\n",
    "text += image_to_hex(gengar_2_0, \"gengar_2_0\", x=4, y=24)\n",
    "text += \"\\n\\n\"\n",
    "text += image_to_hex(nidorino_0, \"nidorino_0\", x=78, y=0)\n",
    "text += \"\\n\\n\"\n",
    "text += image_to_hex(nidorino_0_1, \"nidorino_0_1\", x=78, y=0)\n",
    "text += \"\\n\\n\"\n",
    "text += image_to_hex(nidorino_1_2, \"nidorino_1_2\", x=78, y=0)\n",
    "text += \"\\n\\n\"\n",
    "text += image_to_hex(nidorino_2_0, \"nidorino_2_0\", x=78, y=0)\n",
    "text += \"\\n\\n\"\n",
    "text += image_to_hex(logo, \"logo\", 255, x=11, y=30)\n",
    "text += \"\\n\\n\"\n",
    "text += image_to_hex(base, \"base\")\n",
    "\n",
    "with open(\"images.h\", \"w\") as f:\n",
    "    f.write(text)"
   ]
  },
  {
   "cell_type": "code",
   "execution_count": null,
   "metadata": {},
   "outputs": [],
   "source": []
  },
  {
   "cell_type": "code",
   "execution_count": null,
   "metadata": {},
   "outputs": [],
   "source": []
  }
 ],
 "metadata": {
  "kernelspec": {
   "display_name": "Python 3",
   "language": "python",
   "name": "python3"
  },
  "language_info": {
   "codemirror_mode": {
    "name": "ipython",
    "version": 3
   },
   "file_extension": ".py",
   "mimetype": "text/x-python",
   "name": "python",
   "nbconvert_exporter": "python",
   "pygments_lexer": "ipython3",
   "version": "3.12.3"
  }
 },
 "nbformat": 4,
 "nbformat_minor": 2
}
